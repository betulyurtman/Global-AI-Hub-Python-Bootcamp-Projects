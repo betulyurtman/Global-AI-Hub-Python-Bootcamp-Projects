{
  "cells": [
    {
      "cell_type": "markdown",
      "source": [
        "**In this project, we created a system that takes the name, surname, student ID, and the grade of the student, and gives if the student has passed or failed the course.**"
      ],
      "metadata": {
        "id": "IKANbe24XZxe"
      }
    },
    {
      "cell_type": "markdown",
      "source": [
        "**Importing the necessary libraries.**"
      ],
      "metadata": {
        "id": "uq5whp7MYHqx"
      }
    },
    {
      "cell_type": "code",
      "execution_count": 1,
      "metadata": {
        "id": "cQetLXbhHbaj"
      },
      "outputs": [],
      "source": [
        "import pandas as pd"
      ]
    },
    {
      "cell_type": "markdown",
      "source": [
        "\n",
        "**Creating the lists to save the inputs and the outputs.**"
      ],
      "metadata": {
        "id": "6wDLKGCHYPOv"
      }
    },
    {
      "cell_type": "code",
      "execution_count": 2,
      "metadata": {
        "id": "IzjYvnHCHbat"
      },
      "outputs": [],
      "source": [
        "student_names = []\n",
        "student_surnames = []\n",
        "student_IDs = []\n",
        "student_grades = []\n",
        "letter_grades = []\n",
        "passed_failed = []"
      ]
    },
    {
      "cell_type": "markdown",
      "source": [
        "**We used a while loop for user to enter student information and grade. The user can stop the system by saving as many student information as he wants, and by typing quit in the name field when he wants to exit the system.**"
      ],
      "metadata": {
        "id": "3jD0WqnBYban"
      }
    },
    {
      "cell_type": "code",
      "execution_count": 3,
      "metadata": {
        "colab": {
          "base_uri": "https://localhost:8080/"
        },
        "id": "_3k-gZlWHbaw",
        "outputId": "8e301668-8a98-4932-fc46-42116328295f"
      },
      "outputs": [
        {
          "name": "stdout",
          "output_type": "stream",
          "text": [
            "If you want to quit, type quit. If not: / Student name: b\n",
            "Student surname:y\n",
            "Student ID:555\n",
            "Student grade:78\n",
            "If you want to quit, type quit. If not: / Student name: quit\n"
          ]
        }
      ],
      "source": [
        "while True:\n",
        "    \n",
        "    name = str(input(\"If you want to quit, type quit. If not: / Student name: \"))\n",
        "  \n",
        "    if name == \"quit\":\n",
        "        break\n",
        "\n",
        "    else: \n",
        "        name = name.capitalize() #Girilen ismin küçük harflerle girildi ise baş harfin büyütülmesi için bu satırı ekledik.\n",
        "        student_names.append(name)\n",
        "        surname = str(input(\"Student surname:\"))\n",
        "        surname = surname.capitalize()\n",
        "        student_surnames.append(surname)\n",
        "        ID = student_IDs.append(int(input(\"Student ID:\")))\n",
        "        grade = float(input(\"Student grade:\"))\n",
        "        if grade <= 100 and grade >= 0: #Girilen sınav notunun 0-100 arasında olması için böyle bir kısıt ekledik.\n",
        "            grade = student_grades.append(grade)\n",
        "        else:\n",
        "            grade = student_grades.append(float(input(\"Student an allowed grade:\"))) \n",
        "        "
      ]
    },
    {
      "cell_type": "markdown",
      "source": [
        "\n",
        "**In this part, we specified the letter grade ranges and we wrote a function to find if the student passed or failed the course.**"
      ],
      "metadata": {
        "id": "Xc-OOU3fZqUU"
      }
    },
    {
      "cell_type": "code",
      "execution_count": 4,
      "metadata": {
        "id": "FWgF9XhtHba0"
      },
      "outputs": [],
      "source": [
        "def Students_Grades_and_Passed_Failed(grades): \n",
        "    for i in grades :\n",
        "        if i >= 90 and i <= 100 :\n",
        "            letter_grades.append(\"AA\")\n",
        "            passed_failed.append(\"Passed\")\n",
        "        elif i >= 80 and i < 90 :\n",
        "            letter_grades.append(\"BA\")\n",
        "            passed_failed.append(\"Passed\")\n",
        "        elif i >= 70 and i < 80 :\n",
        "            letter_grades.append(\"BB\")\n",
        "            passed_failed.append(\"Passed\")\n",
        "        elif i >= 65 and i < 70 :\n",
        "            letter_grades.append(\"CB\")\n",
        "            passed_failed.append(\"Passed\")\n",
        "        elif i >= 60 and i < 65 :\n",
        "            letter_grades.append(\"CC\")\n",
        "            passed_failed.append(\"Passed\")\n",
        "        elif i >= 55 and i < 60 :\n",
        "            letter_grades.append(\"DC\")\n",
        "            passed_failed.append(\"Passed\")\n",
        "        elif i >= 50 and i < 55 :\n",
        "            letter_grades.append(\"DD\")\n",
        "            passed_failed.append(\"Passed\")\n",
        "        else:\n",
        "            letter_grades.append(\"FF\")\n",
        "            passed_failed.append(\"Failed\")\n",
        "    return letter_grades , passed_failed"
      ]
    },
    {
      "cell_type": "markdown",
      "source": [
        "**Calling the function.**"
      ],
      "metadata": {
        "id": "Tn4yuSyTH27e"
      }
    },
    {
      "cell_type": "code",
      "execution_count": 5,
      "metadata": {
        "colab": {
          "base_uri": "https://localhost:8080/"
        },
        "id": "5TGv_mUUHba4",
        "outputId": "88d63fd7-73d3-4019-ded9-b12311a5c136"
      },
      "outputs": [
        {
          "output_type": "execute_result",
          "data": {
            "text/plain": [
              "(['BB'], ['Passed'])"
            ]
          },
          "metadata": {},
          "execution_count": 5
        }
      ],
      "source": [
        "Students_Grades_and_Passed_Failed(student_grades)"
      ]
    },
    {
      "cell_type": "markdown",
      "source": [
        "**Öğrenci bilgilerini, harf notunu, geçme/kalma durumunu data frame haline getirmek için bu bilgileri bir dictionary'e atadık.**"
      ],
      "metadata": {
        "id": "8YQjqBihnPP6"
      }
    },
    {
      "cell_type": "code",
      "execution_count": null,
      "metadata": {
        "id": "Q6GVem2aHba6"
      },
      "outputs": [],
      "source": [
        "information = {\"Name\": student_names,\n",
        "               \"Surname\": student_surnames,\n",
        "               \"ID\": student_IDs,\n",
        "               \"Grade\": student_grades,\n",
        "               \"Letter Grade\": letter_grades,\n",
        "               \"Passed/Failed\": passed_failed}"
      ]
    },
    {
      "cell_type": "code",
      "execution_count": null,
      "metadata": {
        "id": "MJn4kkoNHba8"
      },
      "outputs": [],
      "source": [
        "df = pd.DataFrame(information)\n",
        "df.index +=1"
      ]
    },
    {
      "cell_type": "code",
      "execution_count": null,
      "metadata": {
        "colab": {
          "base_uri": "https://localhost:8080/",
          "height": 81
        },
        "id": "VgG7cplYHba_",
        "outputId": "f8bc7fcc-b406-4654-96f7-4842605602ee"
      },
      "outputs": [
        {
          "output_type": "execute_result",
          "data": {
            "text/plain": [
              "  Name Surname   ID  Grade Letter Grade Passed/Failed\n",
              "1    B       Y  565   45.0           FF        Failed"
            ],
            "text/html": [
              "\n",
              "  <div id=\"df-4d87fa6c-f1f3-4042-9f7d-96e547316fb1\">\n",
              "    <div class=\"colab-df-container\">\n",
              "      <div>\n",
              "<style scoped>\n",
              "    .dataframe tbody tr th:only-of-type {\n",
              "        vertical-align: middle;\n",
              "    }\n",
              "\n",
              "    .dataframe tbody tr th {\n",
              "        vertical-align: top;\n",
              "    }\n",
              "\n",
              "    .dataframe thead th {\n",
              "        text-align: right;\n",
              "    }\n",
              "</style>\n",
              "<table border=\"1\" class=\"dataframe\">\n",
              "  <thead>\n",
              "    <tr style=\"text-align: right;\">\n",
              "      <th></th>\n",
              "      <th>Name</th>\n",
              "      <th>Surname</th>\n",
              "      <th>ID</th>\n",
              "      <th>Grade</th>\n",
              "      <th>Letter Grade</th>\n",
              "      <th>Passed/Failed</th>\n",
              "    </tr>\n",
              "  </thead>\n",
              "  <tbody>\n",
              "    <tr>\n",
              "      <th>1</th>\n",
              "      <td>B</td>\n",
              "      <td>Y</td>\n",
              "      <td>565</td>\n",
              "      <td>45.0</td>\n",
              "      <td>FF</td>\n",
              "      <td>Failed</td>\n",
              "    </tr>\n",
              "  </tbody>\n",
              "</table>\n",
              "</div>\n",
              "      <button class=\"colab-df-convert\" onclick=\"convertToInteractive('df-4d87fa6c-f1f3-4042-9f7d-96e547316fb1')\"\n",
              "              title=\"Convert this dataframe to an interactive table.\"\n",
              "              style=\"display:none;\">\n",
              "        \n",
              "  <svg xmlns=\"http://www.w3.org/2000/svg\" height=\"24px\"viewBox=\"0 0 24 24\"\n",
              "       width=\"24px\">\n",
              "    <path d=\"M0 0h24v24H0V0z\" fill=\"none\"/>\n",
              "    <path d=\"M18.56 5.44l.94 2.06.94-2.06 2.06-.94-2.06-.94-.94-2.06-.94 2.06-2.06.94zm-11 1L8.5 8.5l.94-2.06 2.06-.94-2.06-.94L8.5 2.5l-.94 2.06-2.06.94zm10 10l.94 2.06.94-2.06 2.06-.94-2.06-.94-.94-2.06-.94 2.06-2.06.94z\"/><path d=\"M17.41 7.96l-1.37-1.37c-.4-.4-.92-.59-1.43-.59-.52 0-1.04.2-1.43.59L10.3 9.45l-7.72 7.72c-.78.78-.78 2.05 0 2.83L4 21.41c.39.39.9.59 1.41.59.51 0 1.02-.2 1.41-.59l7.78-7.78 2.81-2.81c.8-.78.8-2.07 0-2.86zM5.41 20L4 18.59l7.72-7.72 1.47 1.35L5.41 20z\"/>\n",
              "  </svg>\n",
              "      </button>\n",
              "      \n",
              "  <style>\n",
              "    .colab-df-container {\n",
              "      display:flex;\n",
              "      flex-wrap:wrap;\n",
              "      gap: 12px;\n",
              "    }\n",
              "\n",
              "    .colab-df-convert {\n",
              "      background-color: #E8F0FE;\n",
              "      border: none;\n",
              "      border-radius: 50%;\n",
              "      cursor: pointer;\n",
              "      display: none;\n",
              "      fill: #1967D2;\n",
              "      height: 32px;\n",
              "      padding: 0 0 0 0;\n",
              "      width: 32px;\n",
              "    }\n",
              "\n",
              "    .colab-df-convert:hover {\n",
              "      background-color: #E2EBFA;\n",
              "      box-shadow: 0px 1px 2px rgba(60, 64, 67, 0.3), 0px 1px 3px 1px rgba(60, 64, 67, 0.15);\n",
              "      fill: #174EA6;\n",
              "    }\n",
              "\n",
              "    [theme=dark] .colab-df-convert {\n",
              "      background-color: #3B4455;\n",
              "      fill: #D2E3FC;\n",
              "    }\n",
              "\n",
              "    [theme=dark] .colab-df-convert:hover {\n",
              "      background-color: #434B5C;\n",
              "      box-shadow: 0px 1px 3px 1px rgba(0, 0, 0, 0.15);\n",
              "      filter: drop-shadow(0px 1px 2px rgba(0, 0, 0, 0.3));\n",
              "      fill: #FFFFFF;\n",
              "    }\n",
              "  </style>\n",
              "\n",
              "      <script>\n",
              "        const buttonEl =\n",
              "          document.querySelector('#df-4d87fa6c-f1f3-4042-9f7d-96e547316fb1 button.colab-df-convert');\n",
              "        buttonEl.style.display =\n",
              "          google.colab.kernel.accessAllowed ? 'block' : 'none';\n",
              "\n",
              "        async function convertToInteractive(key) {\n",
              "          const element = document.querySelector('#df-4d87fa6c-f1f3-4042-9f7d-96e547316fb1');\n",
              "          const dataTable =\n",
              "            await google.colab.kernel.invokeFunction('convertToInteractive',\n",
              "                                                     [key], {});\n",
              "          if (!dataTable) return;\n",
              "\n",
              "          const docLinkHtml = 'Like what you see? Visit the ' +\n",
              "            '<a target=\"_blank\" href=https://colab.research.google.com/notebooks/data_table.ipynb>data table notebook</a>'\n",
              "            + ' to learn more about interactive tables.';\n",
              "          element.innerHTML = '';\n",
              "          dataTable['output_type'] = 'display_data';\n",
              "          await google.colab.output.renderOutput(dataTable, element);\n",
              "          const docLink = document.createElement('div');\n",
              "          docLink.innerHTML = docLinkHtml;\n",
              "          element.appendChild(docLink);\n",
              "        }\n",
              "      </script>\n",
              "    </div>\n",
              "  </div>\n",
              "  "
            ]
          },
          "metadata": {},
          "execution_count": 20
        }
      ],
      "source": [
        "df"
      ]
    },
    {
      "cell_type": "markdown",
      "source": [
        "**Kalan ve geçen öğrencileri görebilmek için data frameden bu bilgileri çekerek yeni bir data frame oluşturduk ve bu bilgilerle bir excel dosyası oluşturduk.**"
      ],
      "metadata": {
        "id": "KwDetD_Vnjla"
      }
    },
    {
      "cell_type": "code",
      "execution_count": null,
      "metadata": {
        "id": "sioffaihHbbB"
      },
      "outputs": [],
      "source": [
        "result_df = df[[\"Name\",\"Surname\",\"Passed/Failed\"]]"
      ]
    },
    {
      "cell_type": "code",
      "execution_count": null,
      "metadata": {
        "colab": {
          "base_uri": "https://localhost:8080/",
          "height": 81
        },
        "id": "F3kmMu0nHbbE",
        "outputId": "d5f80254-8a0b-43c6-f9b1-4c701f1ef0cb"
      },
      "outputs": [
        {
          "output_type": "execute_result",
          "data": {
            "text/plain": [
              "  Name Surname Passed/Failed\n",
              "1    B       Y        Failed"
            ],
            "text/html": [
              "\n",
              "  <div id=\"df-4d5e295f-14d2-4e78-ae08-18dc8c01a710\">\n",
              "    <div class=\"colab-df-container\">\n",
              "      <div>\n",
              "<style scoped>\n",
              "    .dataframe tbody tr th:only-of-type {\n",
              "        vertical-align: middle;\n",
              "    }\n",
              "\n",
              "    .dataframe tbody tr th {\n",
              "        vertical-align: top;\n",
              "    }\n",
              "\n",
              "    .dataframe thead th {\n",
              "        text-align: right;\n",
              "    }\n",
              "</style>\n",
              "<table border=\"1\" class=\"dataframe\">\n",
              "  <thead>\n",
              "    <tr style=\"text-align: right;\">\n",
              "      <th></th>\n",
              "      <th>Name</th>\n",
              "      <th>Surname</th>\n",
              "      <th>Passed/Failed</th>\n",
              "    </tr>\n",
              "  </thead>\n",
              "  <tbody>\n",
              "    <tr>\n",
              "      <th>1</th>\n",
              "      <td>B</td>\n",
              "      <td>Y</td>\n",
              "      <td>Failed</td>\n",
              "    </tr>\n",
              "  </tbody>\n",
              "</table>\n",
              "</div>\n",
              "      <button class=\"colab-df-convert\" onclick=\"convertToInteractive('df-4d5e295f-14d2-4e78-ae08-18dc8c01a710')\"\n",
              "              title=\"Convert this dataframe to an interactive table.\"\n",
              "              style=\"display:none;\">\n",
              "        \n",
              "  <svg xmlns=\"http://www.w3.org/2000/svg\" height=\"24px\"viewBox=\"0 0 24 24\"\n",
              "       width=\"24px\">\n",
              "    <path d=\"M0 0h24v24H0V0z\" fill=\"none\"/>\n",
              "    <path d=\"M18.56 5.44l.94 2.06.94-2.06 2.06-.94-2.06-.94-.94-2.06-.94 2.06-2.06.94zm-11 1L8.5 8.5l.94-2.06 2.06-.94-2.06-.94L8.5 2.5l-.94 2.06-2.06.94zm10 10l.94 2.06.94-2.06 2.06-.94-2.06-.94-.94-2.06-.94 2.06-2.06.94z\"/><path d=\"M17.41 7.96l-1.37-1.37c-.4-.4-.92-.59-1.43-.59-.52 0-1.04.2-1.43.59L10.3 9.45l-7.72 7.72c-.78.78-.78 2.05 0 2.83L4 21.41c.39.39.9.59 1.41.59.51 0 1.02-.2 1.41-.59l7.78-7.78 2.81-2.81c.8-.78.8-2.07 0-2.86zM5.41 20L4 18.59l7.72-7.72 1.47 1.35L5.41 20z\"/>\n",
              "  </svg>\n",
              "      </button>\n",
              "      \n",
              "  <style>\n",
              "    .colab-df-container {\n",
              "      display:flex;\n",
              "      flex-wrap:wrap;\n",
              "      gap: 12px;\n",
              "    }\n",
              "\n",
              "    .colab-df-convert {\n",
              "      background-color: #E8F0FE;\n",
              "      border: none;\n",
              "      border-radius: 50%;\n",
              "      cursor: pointer;\n",
              "      display: none;\n",
              "      fill: #1967D2;\n",
              "      height: 32px;\n",
              "      padding: 0 0 0 0;\n",
              "      width: 32px;\n",
              "    }\n",
              "\n",
              "    .colab-df-convert:hover {\n",
              "      background-color: #E2EBFA;\n",
              "      box-shadow: 0px 1px 2px rgba(60, 64, 67, 0.3), 0px 1px 3px 1px rgba(60, 64, 67, 0.15);\n",
              "      fill: #174EA6;\n",
              "    }\n",
              "\n",
              "    [theme=dark] .colab-df-convert {\n",
              "      background-color: #3B4455;\n",
              "      fill: #D2E3FC;\n",
              "    }\n",
              "\n",
              "    [theme=dark] .colab-df-convert:hover {\n",
              "      background-color: #434B5C;\n",
              "      box-shadow: 0px 1px 3px 1px rgba(0, 0, 0, 0.15);\n",
              "      filter: drop-shadow(0px 1px 2px rgba(0, 0, 0, 0.3));\n",
              "      fill: #FFFFFF;\n",
              "    }\n",
              "  </style>\n",
              "\n",
              "      <script>\n",
              "        const buttonEl =\n",
              "          document.querySelector('#df-4d5e295f-14d2-4e78-ae08-18dc8c01a710 button.colab-df-convert');\n",
              "        buttonEl.style.display =\n",
              "          google.colab.kernel.accessAllowed ? 'block' : 'none';\n",
              "\n",
              "        async function convertToInteractive(key) {\n",
              "          const element = document.querySelector('#df-4d5e295f-14d2-4e78-ae08-18dc8c01a710');\n",
              "          const dataTable =\n",
              "            await google.colab.kernel.invokeFunction('convertToInteractive',\n",
              "                                                     [key], {});\n",
              "          if (!dataTable) return;\n",
              "\n",
              "          const docLinkHtml = 'Like what you see? Visit the ' +\n",
              "            '<a target=\"_blank\" href=https://colab.research.google.com/notebooks/data_table.ipynb>data table notebook</a>'\n",
              "            + ' to learn more about interactive tables.';\n",
              "          element.innerHTML = '';\n",
              "          dataTable['output_type'] = 'display_data';\n",
              "          await google.colab.output.renderOutput(dataTable, element);\n",
              "          const docLink = document.createElement('div');\n",
              "          docLink.innerHTML = docLinkHtml;\n",
              "          element.appendChild(docLink);\n",
              "        }\n",
              "      </script>\n",
              "    </div>\n",
              "  </div>\n",
              "  "
            ]
          },
          "metadata": {},
          "execution_count": 23
        }
      ],
      "source": [
        "result_df"
      ]
    },
    {
      "cell_type": "code",
      "execution_count": null,
      "metadata": {
        "id": "I0NbSafLHbbI"
      },
      "outputs": [],
      "source": [
        "result_df.to_excel(\"Student_Passed_Failed.xlsx\")"
      ]
    }
  ],
  "metadata": {
    "kernelspec": {
      "display_name": "Python 3 (ipykernel)",
      "language": "python",
      "name": "python3"
    },
    "language_info": {
      "codemirror_mode": {
        "name": "ipython",
        "version": 3
      },
      "file_extension": ".py",
      "mimetype": "text/x-python",
      "name": "python",
      "nbconvert_exporter": "python",
      "pygments_lexer": "ipython3",
      "version": "3.9.7"
    },
    "colab": {
      "provenance": []
    }
  },
  "nbformat": 4,
  "nbformat_minor": 0
}